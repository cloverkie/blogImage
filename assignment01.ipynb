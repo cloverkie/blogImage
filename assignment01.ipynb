{
  "nbformat": 4,
  "nbformat_minor": 0,
  "metadata": {
    "colab": {
      "provenance": [],
      "authorship_tag": "ABX9TyPTwD1txZ94tqlpBXOX1kCy",
      "include_colab_link": true
    },
    "kernelspec": {
      "name": "python3",
      "display_name": "Python 3"
    },
    "language_info": {
      "name": "python"
    }
  },
  "cells": [
    {
      "cell_type": "markdown",
      "metadata": {
        "id": "view-in-github",
        "colab_type": "text"
      },
      "source": [
        "<a href=\"https://colab.research.google.com/github/cloveryo/blogImage/blob/main/assignment01.ipynb\" target=\"_parent\"><img src=\"https://colab.research.google.com/assets/colab-badge.svg\" alt=\"Open In Colab\"/></a>"
      ]
    },
    {
      "cell_type": "code",
      "execution_count": 1,
      "metadata": {
        "id": "p4-1W-0y0lo1"
      },
      "outputs": [],
      "source": [
        "import pandas as pd\n",
        "from sklearn.preprocessing import LabelEncoder"
      ]
    },
    {
      "cell_type": "markdown",
      "source": [
        "# DOWNLOAD DATA"
      ],
      "metadata": {
        "id": "bkRb1tURC144"
      }
    },
    {
      "cell_type": "code",
      "source": [
        "!wget https://github.com/JovianML/opendatasets/raw/master/data/house-prices-advanced-regression-techniques.zip\n",
        "!unzip house-prices-advanced-regression-techniques.zip"
      ],
      "metadata": {
        "colab": {
          "base_uri": "https://localhost:8080/"
        },
        "id": "y6NkKgjh0IjJ",
        "outputId": "11272784-8459-48b1-8e4f-3697ab646a2c"
      },
      "execution_count": 2,
      "outputs": [
        {
          "output_type": "stream",
          "name": "stdout",
          "text": [
            "--2022-10-07 14:19:26--  https://github.com/JovianML/opendatasets/raw/master/data/house-prices-advanced-regression-techniques.zip\n",
            "Resolving github.com (github.com)... 140.82.114.4\n",
            "Connecting to github.com (github.com)|140.82.114.4|:443... connected.\n",
            "HTTP request sent, awaiting response... 302 Found\n",
            "Location: https://raw.githubusercontent.com/JovianML/opendatasets/master/data/house-prices-advanced-regression-techniques.zip [following]\n",
            "--2022-10-07 14:19:26--  https://raw.githubusercontent.com/JovianML/opendatasets/master/data/house-prices-advanced-regression-techniques.zip\n",
            "Resolving raw.githubusercontent.com (raw.githubusercontent.com)... 185.199.111.133, 185.199.109.133, 185.199.110.133, ...\n",
            "Connecting to raw.githubusercontent.com (raw.githubusercontent.com)|185.199.111.133|:443... connected.\n",
            "HTTP request sent, awaiting response... 200 OK\n",
            "Length: 203809 (199K) [application/zip]\n",
            "Saving to: ‘house-prices-advanced-regression-techniques.zip’\n",
            "\n",
            "\r          house-pri   0%[                    ]       0  --.-KB/s               \rhouse-prices-advanc 100%[===================>] 199.03K  --.-KB/s    in 0.002s  \n",
            "\n",
            "2022-10-07 14:19:26 (107 MB/s) - ‘house-prices-advanced-regression-techniques.zip’ saved [203809/203809]\n",
            "\n",
            "Archive:  house-prices-advanced-regression-techniques.zip\n",
            "  inflating: data_description.txt    \n",
            "  inflating: sample_submission.csv   \n",
            "  inflating: test.csv                \n",
            "  inflating: train.csv               \n"
          ]
        }
      ]
    },
    {
      "cell_type": "code",
      "source": [
        "# contact dataset\n",
        "train = pd.read_csv('train.csv')\n",
        "test = pd.read_csv('test.csv')\n",
        "print(len(train), len(test))\n",
        "dataset = pd.concat([train, test], axis=0)\n",
        "print(dataset.shape)\n",
        "dataset = dataset.reset_index(drop=True)"
      ],
      "metadata": {
        "id": "mvxqaxC-0rgT",
        "colab": {
          "base_uri": "https://localhost:8080/"
        },
        "outputId": "b2c354df-0299-46f5-b565-cf151caf601d"
      },
      "execution_count": 12,
      "outputs": [
        {
          "output_type": "stream",
          "name": "stdout",
          "text": [
            "1460 1459\n",
            "(2919, 81)\n"
          ]
        }
      ]
    },
    {
      "cell_type": "code",
      "source": [
        "dataset.info()"
      ],
      "metadata": {
        "colab": {
          "base_uri": "https://localhost:8080/"
        },
        "id": "KGGBBIsV0sqg",
        "outputId": "5fe1dc53-4e10-434f-eee5-ce32808b5a1c"
      },
      "execution_count": 11,
      "outputs": [
        {
          "output_type": "stream",
          "name": "stdout",
          "text": [
            "<class 'pandas.core.frame.DataFrame'>\n",
            "RangeIndex: 2919 entries, 0 to 2918\n",
            "Data columns (total 76 columns):\n",
            " #   Column         Non-Null Count  Dtype  \n",
            "---  ------         --------------  -----  \n",
            " 0   Id             2919 non-null   int64  \n",
            " 1   MSSubClass     2919 non-null   int64  \n",
            " 2   MSZoning       2919 non-null   object \n",
            " 3   LotFrontage    2919 non-null   float64\n",
            " 4   LotArea        2919 non-null   int64  \n",
            " 5   Utilities      2919 non-null   object \n",
            " 6   LotConfig      2919 non-null   object \n",
            " 7   LandSlope      2919 non-null   object \n",
            " 8   Neighborhood   2919 non-null   object \n",
            " 9   Condition1     2919 non-null   object \n",
            " 10  Condition2     2919 non-null   object \n",
            " 11  BldgType       2919 non-null   object \n",
            " 12  HouseStyle     2919 non-null   object \n",
            " 13  OverallQual    2919 non-null   int64  \n",
            " 14  OverallCond    2919 non-null   int64  \n",
            " 15  YearBuilt      2919 non-null   int64  \n",
            " 16  YearRemodAdd   2919 non-null   int64  \n",
            " 17  RoofStyle      2919 non-null   object \n",
            " 18  RoofMatl       2919 non-null   object \n",
            " 19  Exterior1st    2919 non-null   object \n",
            " 20  Exterior2nd    2919 non-null   object \n",
            " 21  MasVnrType     2919 non-null   object \n",
            " 22  MasVnrArea     2919 non-null   float64\n",
            " 23  ExterQual      2919 non-null   object \n",
            " 24  ExterCond      2919 non-null   object \n",
            " 25  Foundation     2919 non-null   object \n",
            " 26  BsmtQual       2919 non-null   object \n",
            " 27  BsmtCond       2919 non-null   object \n",
            " 28  BsmtExposure   2919 non-null   object \n",
            " 29  BsmtFinType1   2919 non-null   object \n",
            " 30  BsmtFinSF1     2919 non-null   object \n",
            " 31  BsmtFinType2   2919 non-null   object \n",
            " 32  BsmtFinSF2     2919 non-null   object \n",
            " 33  BsmtUnfSF      2919 non-null   object \n",
            " 34  TotalBsmtSF    2919 non-null   object \n",
            " 35  Heating        2919 non-null   object \n",
            " 36  HeatingQC      2919 non-null   object \n",
            " 37  CentralAir     2919 non-null   object \n",
            " 38  Electrical     2919 non-null   object \n",
            " 39  1stFlrSF       2919 non-null   int64  \n",
            " 40  2ndFlrSF       2919 non-null   int64  \n",
            " 41  LowQualFinSF   2919 non-null   int64  \n",
            " 42  GrLivArea      2919 non-null   int64  \n",
            " 43  BsmtFullBath   2919 non-null   float64\n",
            " 44  BsmtHalfBath   2919 non-null   float64\n",
            " 45  FullBath       2919 non-null   int64  \n",
            " 46  HalfBath       2919 non-null   int64  \n",
            " 47  BedroomAbvGr   2919 non-null   int64  \n",
            " 48  KitchenAbvGr   2919 non-null   int64  \n",
            " 49  KitchenQual    2919 non-null   object \n",
            " 50  TotRmsAbvGrd   2919 non-null   int64  \n",
            " 51  Functional     2919 non-null   object \n",
            " 52  Fireplaces     2919 non-null   int64  \n",
            " 53  FireplaceQu    2919 non-null   object \n",
            " 54  GarageType     2919 non-null   object \n",
            " 55  GarageFinish   2919 non-null   object \n",
            " 56  GarageCars     2919 non-null   float64\n",
            " 57  GarageArea     2919 non-null   float64\n",
            " 58  GarageQual     2919 non-null   object \n",
            " 59  GarageCond     2919 non-null   object \n",
            " 60  PavedDrive     2919 non-null   object \n",
            " 61  WoodDeckSF     2919 non-null   int64  \n",
            " 62  OpenPorchSF    2919 non-null   int64  \n",
            " 63  EnclosedPorch  2919 non-null   int64  \n",
            " 64  3SsnPorch      2919 non-null   int64  \n",
            " 65  ScreenPorch    2919 non-null   int64  \n",
            " 66  PoolArea       2919 non-null   int64  \n",
            " 67  PoolQC         2919 non-null   object \n",
            " 68  Fence          2919 non-null   object \n",
            " 69  MiscFeature    2919 non-null   object \n",
            " 70  MiscVal        2919 non-null   int64  \n",
            " 71  MoSold         2919 non-null   int64  \n",
            " 72  YrSold         2919 non-null   int64  \n",
            " 73  SaleType       2919 non-null   object \n",
            " 74  SaleCondition  2919 non-null   object \n",
            " 75  SalePrice      1460 non-null   float64\n",
            "dtypes: float64(7), int64(26), object(43)\n",
            "memory usage: 1.7+ MB\n"
          ]
        }
      ]
    },
    {
      "cell_type": "markdown",
      "source": [
        "# PREPROCESSING"
      ],
      "metadata": {
        "id": "EbFwtVETDDHm"
      }
    },
    {
      "cell_type": "code",
      "source": [
        "# Handle NA\n",
        "# string features\n",
        "columns = ['MSZoning', 'Utilities', 'Exterior1st', 'Exterior2nd', 'MasVnrType', 'BsmtQual', 'BsmtCond', 'BsmtExposure', 'BsmtFinType1', 'BsmtFinSF1', 'BsmtFinType2', 'BsmtFinSF2', 'BsmtUnfSF', 'TotalBsmtSF', 'Electrical', 'KitchenQual', 'Functional', 'FireplaceQu', 'GarageType', 'GarageFinish', 'GarageQual', 'GarageCond', 'PoolQC', 'Fence', 'MiscFeature', 'SaleType']\n",
        "for col in columns:\n",
        "    dataset[col].fillna(f'None', inplace=True)\n",
        "\n",
        "# numerical features\n",
        "columns = ['LotFrontage', 'MasVnrArea', 'BsmtFullBath', 'BsmtHalfBath', 'GarageCars', 'GarageArea']\n",
        "for col in columns:\n",
        "    dataset[col].fillna(0, inplace=True)\n",
        "\n",
        "# drop columns that hard to be handled\n",
        "columns = ['Street', 'Alley', 'LotShape', 'LandContour', 'GarageYrBlt', 'YearBuilt', 'YearRemodAdd', 'MoSold', 'YrSold'] # 删掉日期类feature和一些看起来没用的feature\n",
        "for col in columns:\n",
        "    dataset.drop(col, axis=1,  inplace=True)\n",
        "\n",
        "# reindex\n",
        "dataset = dataset.reset_index(drop=True)\n",
        "print(dataset.shape)\n",
        "dataset.info()"
      ],
      "metadata": {
        "id": "avMJCmIv1M72"
      },
      "execution_count": null,
      "outputs": []
    },
    {
      "cell_type": "code",
      "source": [
        "# One-Hot\n",
        "columns = ['MSSubClass', 'OverallQual', 'OverallCond']\n",
        "for col in columns:\n",
        "    dataset[col] = dataset[col].astype(str)\n",
        "dataset = pd.get_dummies(dataset)\n",
        "print(dataset.shape)"
      ],
      "metadata": {
        "id": "6sj7IWD41opn"
      },
      "execution_count": null,
      "outputs": []
    },
    {
      "cell_type": "markdown",
      "source": [
        "# PREPARE DATASET"
      ],
      "metadata": {
        "id": "YHZClAOjDdYj"
      }
    },
    {
      "cell_type": "code",
      "source": [
        "gt = dataset.SalePrice\n",
        "gt = gt.dropna(how='any')\n",
        "gt = gt.reset_index(drop=True)\n",
        "dataset = dataset.drop(['SalePrice'], axis=1)"
      ],
      "metadata": {
        "id": "gnS8_i8X1rRN"
      },
      "execution_count": 16,
      "outputs": []
    },
    {
      "cell_type": "code",
      "source": [
        "# split train test\n",
        "train = dataset[dataset['Id'].isin(train['Id'])]\n",
        "train = train.drop(['Id'], axis=1)\n",
        "train = train.reset_index(drop=True)\n",
        "\n",
        "test = dataset[dataset['Id'].isin(test['Id'])]\n",
        "test = test.reset_index(drop=True)\n",
        "test_id = test.Id\n",
        "test = test.drop(['Id'], axis=1)"
      ],
      "metadata": {
        "id": "Vg8JH42V5MMx"
      },
      "execution_count": 17,
      "outputs": []
    },
    {
      "cell_type": "markdown",
      "source": [
        "# TRAIN A LINEAR REGRESSION MODEL"
      ],
      "metadata": {
        "id": "fM4mViqGDXn2"
      }
    },
    {
      "cell_type": "code",
      "source": [
        "from sklearn.linear_model import LinearRegression\n",
        "\n",
        "model = LinearRegression()\n",
        "model = model.fit(train, gt)"
      ],
      "metadata": {
        "id": "pNY-J-C1AKtF"
      },
      "execution_count": 18,
      "outputs": []
    },
    {
      "cell_type": "markdown",
      "source": [
        "# EVALUATE MODEL"
      ],
      "metadata": {
        "id": "KtDzb90QDrlE"
      }
    },
    {
      "cell_type": "code",
      "source": [
        "r_sq = model.score(train, gt)\n",
        "print(f'score: {r_sq}')"
      ],
      "metadata": {
        "colab": {
          "base_uri": "https://localhost:8080/"
        },
        "id": "gsy0Btd5ANXK",
        "outputId": "80d2cba9-bd4e-4fcb-cf3f-1b51658131a8"
      },
      "execution_count": 19,
      "outputs": [
        {
          "output_type": "stream",
          "name": "stdout",
          "text": [
            "score: 0.9999960767432823\n"
          ]
        }
      ]
    },
    {
      "cell_type": "markdown",
      "source": [
        "# MAKE PREDICTIONS"
      ],
      "metadata": {
        "id": "EZ7bWVOsDxCG"
      }
    },
    {
      "cell_type": "code",
      "source": [
        "y_pred = model.predict(test)\n",
        "output = pd.concat([test_id, pd.DataFrame(y_pred)], axis=1)\n",
        "output.to_csv('output.csv', index=False)\n",
        "output"
      ],
      "metadata": {
        "colab": {
          "base_uri": "https://localhost:8080/",
          "height": 423
        },
        "id": "Q6EBoXMUAVIz",
        "outputId": "97a87f20-4b54-482b-e83d-10dec06336e4"
      },
      "execution_count": 20,
      "outputs": [
        {
          "output_type": "execute_result",
          "data": {
            "text/plain": [
              "        Id              0\n",
              "0     1461  124884.461233\n",
              "1     1462   55296.315452\n",
              "2     1463  128182.647324\n",
              "3     1464  166914.101546\n",
              "4     1465  325185.176640\n",
              "...    ...            ...\n",
              "1454  2915   98277.418297\n",
              "1455  2916   60454.281888\n",
              "1456  2917   67175.806308\n",
              "1457  2918   -7356.937477\n",
              "1458  2919  222759.367516\n",
              "\n",
              "[1459 rows x 2 columns]"
            ],
            "text/html": [
              "\n",
              "  <div id=\"df-767ff8a6-ae5e-4870-b5fc-0bce52c0a103\">\n",
              "    <div class=\"colab-df-container\">\n",
              "      <div>\n",
              "<style scoped>\n",
              "    .dataframe tbody tr th:only-of-type {\n",
              "        vertical-align: middle;\n",
              "    }\n",
              "\n",
              "    .dataframe tbody tr th {\n",
              "        vertical-align: top;\n",
              "    }\n",
              "\n",
              "    .dataframe thead th {\n",
              "        text-align: right;\n",
              "    }\n",
              "</style>\n",
              "<table border=\"1\" class=\"dataframe\">\n",
              "  <thead>\n",
              "    <tr style=\"text-align: right;\">\n",
              "      <th></th>\n",
              "      <th>Id</th>\n",
              "      <th>0</th>\n",
              "    </tr>\n",
              "  </thead>\n",
              "  <tbody>\n",
              "    <tr>\n",
              "      <th>0</th>\n",
              "      <td>1461</td>\n",
              "      <td>124884.461233</td>\n",
              "    </tr>\n",
              "    <tr>\n",
              "      <th>1</th>\n",
              "      <td>1462</td>\n",
              "      <td>55296.315452</td>\n",
              "    </tr>\n",
              "    <tr>\n",
              "      <th>2</th>\n",
              "      <td>1463</td>\n",
              "      <td>128182.647324</td>\n",
              "    </tr>\n",
              "    <tr>\n",
              "      <th>3</th>\n",
              "      <td>1464</td>\n",
              "      <td>166914.101546</td>\n",
              "    </tr>\n",
              "    <tr>\n",
              "      <th>4</th>\n",
              "      <td>1465</td>\n",
              "      <td>325185.176640</td>\n",
              "    </tr>\n",
              "    <tr>\n",
              "      <th>...</th>\n",
              "      <td>...</td>\n",
              "      <td>...</td>\n",
              "    </tr>\n",
              "    <tr>\n",
              "      <th>1454</th>\n",
              "      <td>2915</td>\n",
              "      <td>98277.418297</td>\n",
              "    </tr>\n",
              "    <tr>\n",
              "      <th>1455</th>\n",
              "      <td>2916</td>\n",
              "      <td>60454.281888</td>\n",
              "    </tr>\n",
              "    <tr>\n",
              "      <th>1456</th>\n",
              "      <td>2917</td>\n",
              "      <td>67175.806308</td>\n",
              "    </tr>\n",
              "    <tr>\n",
              "      <th>1457</th>\n",
              "      <td>2918</td>\n",
              "      <td>-7356.937477</td>\n",
              "    </tr>\n",
              "    <tr>\n",
              "      <th>1458</th>\n",
              "      <td>2919</td>\n",
              "      <td>222759.367516</td>\n",
              "    </tr>\n",
              "  </tbody>\n",
              "</table>\n",
              "<p>1459 rows × 2 columns</p>\n",
              "</div>\n",
              "      <button class=\"colab-df-convert\" onclick=\"convertToInteractive('df-767ff8a6-ae5e-4870-b5fc-0bce52c0a103')\"\n",
              "              title=\"Convert this dataframe to an interactive table.\"\n",
              "              style=\"display:none;\">\n",
              "        \n",
              "  <svg xmlns=\"http://www.w3.org/2000/svg\" height=\"24px\"viewBox=\"0 0 24 24\"\n",
              "       width=\"24px\">\n",
              "    <path d=\"M0 0h24v24H0V0z\" fill=\"none\"/>\n",
              "    <path d=\"M18.56 5.44l.94 2.06.94-2.06 2.06-.94-2.06-.94-.94-2.06-.94 2.06-2.06.94zm-11 1L8.5 8.5l.94-2.06 2.06-.94-2.06-.94L8.5 2.5l-.94 2.06-2.06.94zm10 10l.94 2.06.94-2.06 2.06-.94-2.06-.94-.94-2.06-.94 2.06-2.06.94z\"/><path d=\"M17.41 7.96l-1.37-1.37c-.4-.4-.92-.59-1.43-.59-.52 0-1.04.2-1.43.59L10.3 9.45l-7.72 7.72c-.78.78-.78 2.05 0 2.83L4 21.41c.39.39.9.59 1.41.59.51 0 1.02-.2 1.41-.59l7.78-7.78 2.81-2.81c.8-.78.8-2.07 0-2.86zM5.41 20L4 18.59l7.72-7.72 1.47 1.35L5.41 20z\"/>\n",
              "  </svg>\n",
              "      </button>\n",
              "      \n",
              "  <style>\n",
              "    .colab-df-container {\n",
              "      display:flex;\n",
              "      flex-wrap:wrap;\n",
              "      gap: 12px;\n",
              "    }\n",
              "\n",
              "    .colab-df-convert {\n",
              "      background-color: #E8F0FE;\n",
              "      border: none;\n",
              "      border-radius: 50%;\n",
              "      cursor: pointer;\n",
              "      display: none;\n",
              "      fill: #1967D2;\n",
              "      height: 32px;\n",
              "      padding: 0 0 0 0;\n",
              "      width: 32px;\n",
              "    }\n",
              "\n",
              "    .colab-df-convert:hover {\n",
              "      background-color: #E2EBFA;\n",
              "      box-shadow: 0px 1px 2px rgba(60, 64, 67, 0.3), 0px 1px 3px 1px rgba(60, 64, 67, 0.15);\n",
              "      fill: #174EA6;\n",
              "    }\n",
              "\n",
              "    [theme=dark] .colab-df-convert {\n",
              "      background-color: #3B4455;\n",
              "      fill: #D2E3FC;\n",
              "    }\n",
              "\n",
              "    [theme=dark] .colab-df-convert:hover {\n",
              "      background-color: #434B5C;\n",
              "      box-shadow: 0px 1px 3px 1px rgba(0, 0, 0, 0.15);\n",
              "      filter: drop-shadow(0px 1px 2px rgba(0, 0, 0, 0.3));\n",
              "      fill: #FFFFFF;\n",
              "    }\n",
              "  </style>\n",
              "\n",
              "      <script>\n",
              "        const buttonEl =\n",
              "          document.querySelector('#df-767ff8a6-ae5e-4870-b5fc-0bce52c0a103 button.colab-df-convert');\n",
              "        buttonEl.style.display =\n",
              "          google.colab.kernel.accessAllowed ? 'block' : 'none';\n",
              "\n",
              "        async function convertToInteractive(key) {\n",
              "          const element = document.querySelector('#df-767ff8a6-ae5e-4870-b5fc-0bce52c0a103');\n",
              "          const dataTable =\n",
              "            await google.colab.kernel.invokeFunction('convertToInteractive',\n",
              "                                                     [key], {});\n",
              "          if (!dataTable) return;\n",
              "\n",
              "          const docLinkHtml = 'Like what you see? Visit the ' +\n",
              "            '<a target=\"_blank\" href=https://colab.research.google.com/notebooks/data_table.ipynb>data table notebook</a>'\n",
              "            + ' to learn more about interactive tables.';\n",
              "          element.innerHTML = '';\n",
              "          dataTable['output_type'] = 'display_data';\n",
              "          await google.colab.output.renderOutput(dataTable, element);\n",
              "          const docLink = document.createElement('div');\n",
              "          docLink.innerHTML = docLinkHtml;\n",
              "          element.appendChild(docLink);\n",
              "        }\n",
              "      </script>\n",
              "    </div>\n",
              "  </div>\n",
              "  "
            ]
          },
          "metadata": {},
          "execution_count": 20
        }
      ]
    }
  ]
}